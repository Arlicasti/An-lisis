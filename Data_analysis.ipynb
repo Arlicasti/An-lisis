{
 "cells": [
  {
   "cell_type": "code",
   "execution_count": null,
   "metadata": {
    "vscode": {
     "languageId": "plaintext"
    }
   },
   "outputs": [],
   "source": [
    "import matplotlib.pyplot as plt\n",
    "import pandas as pd\n",
    "\n",
    "# Cargar los datos\n",
    "df = pd.read_csv('dataset_1.csv')  # Ajustar el nombre del archivo si es necesario\n",
    "\n",
    "print(\"\\n--- Estructura del dataset ---\")\n",
    "print(f\"Columnas: {df.columns.tolist()}\")\n",
    "print(f\"Primeras filas:\\n{df.head()}\")\n",
    "print(\"\\nValores únicos en sexo:\")\n",
    "print(df['sexo'].unique())\n",
    "\n",
    "# Procesar los datos\n",
    "# Contar participantes por centro y sexo\n",
    "conteo = df.groupby(['centro', 'sexo']).size().unstack().reset_index()\n",
    "\n",
    "# Renombrar columnas para coincidir con el gráfico\n",
    "conteo.columns = ['centro', 'M', 'F']  # Ajustar si los sexos tienen otros nombres\n",
    "\n",
    "# Configurar el gráfico\n",
    "plt.figure(figsize=(12, 7))\n",
    "bar_width = 0.4\n",
    "index = range(len(conteo['centro']))\n",
    "\n",
    "# Crear las barras\n",
    "barras_h = plt.bar(index, conteo['M'], bar_width, label='M', color='#1f77b4', alpha=0.8)\n",
    "barras_m = plt.bar([i + bar_width for i in index], conteo['F'], bar_width, label='F', color='#ff7f0e', alpha=0.8)\n",
    "\n",
    "# Personalización\n",
    "plt.title('Geolocalización de participantes', fontsize=14, pad=20)\n",
    "plt.xlabel('Centros de investigación', fontsize=12)\n",
    "plt.ylabel('Número de participantes', fontsize=12)\n",
    "plt.xticks([i + bar_width/2 for i in index], conteo['Centro'], rotation=45, ha='right')\n",
    "plt.legend()\n",
    "\n",
    "# Añadir etiquetas numéricas\n",
    "for bar in barras_h + barras_m:\n",
    "    height = bar.get_height()\n",
    "    plt.text(bar.get_x() + bar.get_width()/2, height,\n",
    "             f'{int(height)}',\n",
    "             ha='center', va='bottom')\n",
    "\n",
    "plt.tight_layout()\n",
    "plt.show()"
   ]
  }
 ],
 "metadata": {
  "language_info": {
   "name": "python"
  }
 },
 "nbformat": 4,
 "nbformat_minor": 2
}
