import matplotlib.pyplot as plt
import pandas as pd
import re

# Datos integrados directamente en el código
data = {
    'ID': ['000000724314', '000001647364', '000004794212', '000005446254', '000006210895', 
          '000006905767', '000009616716', '000010482778', '000014141334', '000016352457',
          '000016720517', '000018155653', '000018838739', '000019893323', '000020278160',
          '000023207511', '000023343892', '000024786016', '000028359931', '000029963972',
          '000030029083', '000030649663', '000031966463', '000038659983', '000038965837',
          '000041266477', '000042169862', '000042694237', '000043347465', '000043968174',
          '000044103403', '000044753182', '000044775808', '000046280277', '000047119736',
          '000048934345', '000049483266', '000051671690', '000052801880', '000058577586',
          '000059112626', '000061120609', '000062180324', '000064672179', '000066092324',
          '000067488444', '000068717425', '000069026991', '000072198640', '000073231355',
          '000074586509', '000077596543', '000080180835', '000082922411', '000083550867',
          '000086549823', '000087817879', '000092589671', '000094345446', '000098205180',
          '000099561404', '000099616225'],
    'sub': [f"{i:02}" for i in range(1, 63)],
    'centro': ['Paris', 'Nottingham', None, None, None, None, 'Paris', None, None, 'Berlín',
              None, None, None, None, 'Mannheim', 'Dublín', None, None, 'Berlín', None,'Hohen Neuendorf, Alemania (Berlín)', None, None, 'Nottingham', 'Paris',
              'Nottingham', 'Berlín', 'Berlín', None, 'Berlín', 'Mannheim', 'Nottingham',
              None, 'Dresde', 'Nottingham', None, 'Mannheim', 'Berlín', None, None, None,
              None, None, None, None, 'Berlín', 'Schriesheim, Alemania (Mannheim)', 'Dublín',
              'Paris', None, None, None, 'Mannheim', 'Nottingham', 'Berlín', None, 'Nottingham',
              None, 'Dublín', 'Paris', 'Dublín', None],
    'sexo': ['M', 'M', 'F', 'M', 'M', 'M', 'M', 'M', 'F', 'M', 'F', 'F', 'M', 'F', 'F', 'M',
            'M', 'F', 'M', 'M', 'M', 'F', 'M', 'M', 'M', 'F', 'F', 'M', 'F', 'M', 'M', 'M',
            'M', 'M', 'F', 'F', 'F', 'M', 'M', 'F', 'M', 'M', 'M', 'M', 'F', 'M', 'M', 'M',
            'M', 'M', 'M', 'M', 'F', 'F', 'F', 'M', 'M', '', 'M', 'M', 'M', 'F']
}

df = pd.DataFrame(data)

# Limpieza y normalización de datos
# 1. Normalizar centros (extraer la ciudad principal entre paréntesis)
def normalizar_centro(centro):
    if pd.isna(centro):
        return 'No especificado'
    # Buscar patrones entre paréntesis
    match = re.search(r'\(([^)]+)\)', str(centro))
    if match:
        return match.group(1).strip()
    return centro.strip()

df['centro_clean'] = df['centro'].apply(normalizar_centro)
# 2. Normalizar sexo
gender_map = {'M': 'M', 'F': 'F', '': 'No especificado'}
df['sexo_clean'] = df['sexo'].map(gender_map).fillna('No especificado')

# 3. Filtrar valores no especificados
df_filtered = df[df['centro_clean'] != 'No especificado']

# Procesar los datos para el gráfico
conteo = df_filtered.groupby(['centro_clean', 'sexo_clean']).size().unstack().fillna(0)

# Ordenar por total de participantes
conteo['Total'] = conteo.sum(axis=1)
conteo = conteo.sort_values('Total', ascending=False).drop('Total', axis=1)

# Configurar el gráfico
plt.figure(figsize=(14, 8))
bar_width = 0.35
index = range(len(conteo))

# Crear barras
barras_h = plt.bar(index, conteo['M'], bar_width, label='M', color='#90ee90')
barras_m = plt.bar([i + bar_width for i in index], conteo['F'], bar_width, label='F', color='#C8A2C8')

# Personalizaciónplt.title('Distribución de participantes por centro y género', fontsize=16, pad=20)
plt.xlabel('Centros de investigación', fontsize=12)
plt.ylabel('Número de participantes', fontsize=12)
plt.xticks([i + bar_width/2 for i in index], conteo.index, rotation=45, ha='right')
plt.legend()

# Añadir etiquetas
for bar in barras_h + barras_m:
    height = bar.get_height()
    if height > 0:  # Solo mostrar etiquetas para valores mayores a 0
        plt.text(bar.get_x() + bar.get_width()/2, height,
                 f'{int(height)}',
                 ha='center', va='bottom')

# Añadir totales en la parte superior
for i, centro in enumerate(conteo.index):
    total = conteo.loc[centro].sum()
    plt.text(i + bar_width/2, total + 0.5, f'Total: {int(total)}',
             ha='center', va='bottom', color='gray', fontsize=9)

plt.tight_layout()
plt.show()

